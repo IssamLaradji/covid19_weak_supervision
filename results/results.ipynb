{
 "cells": [
  {
   "cell_type": "code",
   "execution_count": 3,
   "metadata": {
    "scrolled": false
   },
   "outputs": [
    {
     "name": "stderr",
     "output_type": "stream",
     "text": [
      "100%|██████████| 11/11 [00:00<00:00, 93.19it/s]\n"
     ]
    },
    {
     "data": {
      "text/plain": [
       "'Selected 10/10 experiments using \"filterby_list\"'"
      ]
     },
     "metadata": {},
     "output_type": "display_data"
    },
    {
     "data": {
      "application/vnd.jupyter.widget-view+json": {
       "model_id": "4709237f924a4bb3a03666b87f3592f1",
       "version_major": 2,
       "version_minor": 0
      },
      "text/plain": [
       "VBox(children=(Label(value='Select exp_group', layout=Layout(width='200px')), HBox(children=(Dropdown(index=17…"
      ]
     },
     "metadata": {},
     "output_type": "display_data"
    },
    {
     "data": {
      "application/javascript": [
       "\n",
       "        require.config({\n",
       "            paths: {\n",
       "                DT: '//cdn.datatables.net/1.10.19/js/jquery.dataTables.min',\n",
       "            }\n",
       "        });\n",
       "        $('head').append('<link rel=\"stylesheet\" type=\"text/css\" href=\"//cdn.datatables.net/1.10.19/css/jquery.dataTables.min.css\">');\n",
       "    "
      ],
      "text/plain": [
       "<IPython.core.display.Javascript object>"
      ]
     },
     "metadata": {},
     "output_type": "display_data"
    },
    {
     "data": {
      "application/vnd.jupyter.widget-view+json": {
       "model_id": "cb8206916dd54b4bb434776dd0f953bd",
       "version_major": 2,
       "version_minor": 0
      },
      "text/plain": [
       "Output()"
      ]
     },
     "metadata": {},
     "output_type": "display_data"
    },
    {
     "data": {
      "text/html": [
       "<style>.container { width:100% !important; }</style>"
      ],
      "text/plain": [
       "<IPython.core.display.HTML object>"
      ]
     },
     "metadata": {},
     "output_type": "display_data"
    },
    {
     "data": {
      "text/html": [
       "\n",
       "        <style>\n",
       "            .output_scroll {\n",
       "                height: unset !important;\n",
       "                border-radius: unset !important;\n",
       "                -webkit-box-shadow: unset !important;\n",
       "                box-shadow: unset !important;\n",
       "            }\n",
       "        </style>\n",
       "        "
      ],
      "text/plain": [
       "<IPython.core.display.HTML object>"
      ]
     },
     "metadata": {},
     "output_type": "display_data"
    }
   ],
   "source": [
    "%matplotlib inline\n",
    "# sys.path.insert(local_haven)\n",
    "from haven import haven_jupyter as hj\n",
    "from haven import haven_results as hr\n",
    "from haven import haven_utils as hu\n",
    "\n",
    "# please define the path to the experiments\n",
    "# savedir_base = '/mnt/projects/vision_prototypes/synbols/white_noise_borgy/'\n",
    "# savedir_base = '/mnt/projects/vision_prototypes/synbols/logs_borgy_baselines_may'\n",
    "\n",
    "# savedir_base = '/mnt/projects/vision_prototypes/synbols/logs_borgy_baselines_june_wrn_28_4'\n",
    "# savedir_base = '/mnt/datasets/public/research/synbols/allac_logs_borgy_classification'\n",
    "# savedir_base = '/mnt/projects/vision_prototypes/synbols/logs_borgy_baselines_reference_june/'\n",
    "savedir_base = '/mnt/projects/vision_prototypes/pau/covid_v10/'\n",
    "\n",
    "\n",
    "# savedir_base = '/mnt/projects/vision_prototypes/synbols/generation_vae_baselines_infomax_june'\n",
    "# savedir_base = '/mnt/projects/vision_prototypes/synbols/logs_borgy_baselines_may_compositional/'\n",
    "\n",
    "\n",
    "# savedir_base = '/mnt/projects/vision_prototypes/synbols/font_plain_borgy/'\n",
    "\n",
    "exp_list = None\n",
    "exp_config_name = '/home/pau/git/research_ground/exp_configs/weakly_exps_pau.py'\n",
    "# exp_config_name = \"weakly_covid19_v2_mixed_c2\"\n",
    "#                 \"weakly_covid19_v2_sep_c2\",\n",
    "#                 \"weakly_covid19_v3_mixed_c2\",\n",
    "#                 \"weakly_covid19_v3_sep_c2\",\"\n",
    "# exp_list = hu.load_py(exp_config_name).EXP_GROUPS['mnist']\n",
    "# exp_list = [\"411f62849ef48a63e8d5b43168f4cd8e\"]\n",
    "# get specific experiments, for example, {'model':'resnet34'}\n",
    "filterby_list = None\n",
    "\n",
    "# group the experiments based on a hyperparameter, for example, ['dataset']\n",
    "groupby_list = None\n",
    "verbose = 0\n",
    "\n",
    "# plot vars\n",
    "# y_metrics='train_loss'\n",
    "x_metric='epoch'\n",
    "# log_metric_list = ['train_loss']\n",
    "map_exp_list = []\n",
    "# title_list=['dataset']\n",
    "# legend_list=['model']\n",
    "\n",
    "# get experiments\n",
    "rm = hr.ResultManager(exp_list=exp_list, \n",
    "                      savedir_base=savedir_base, \n",
    "                      filterby_list=filterby_list,\n",
    "                      verbose=verbose,\n",
    "                      exp_groups=exp_config_name,\n",
    "#                       score_list_name='score_list_test.pkl'\n",
    "#                       exp_ids=['411f62849ef48a63e8d5b43168f4cd8e']\n",
    "                     )\n",
    "score_lists = rm.get_score_lists()\n",
    "# score = rm.get_score_table(columns=['dataset', 'exp_id'])\n",
    "\n",
    "\n",
    "# launch dashboard\n",
    "hj.get_dashboard(rm, vars(), wide_display=True)"
   ]
  },
  {
   "cell_type": "code",
   "execution_count": 5,
   "metadata": {},
   "outputs": [
    {
     "name": "stdout",
     "output_type": "stream",
     "text": [
      "\\begin{table}\n",
      "\\centering\n",
      "\\caption{COVID-19-A}\n",
      "\\begin{tabular}{lrrrrr}\n",
      "\\toprule\n",
      "    Loss Function &  Dice &  IoU &  PPV &  Sens. &  Spec. \\\\\n",
      "\\midrule\n",
      "       Point Loss &   NaN &  NaN &  NaN &    NaN &    NaN \\\\\n",
      "    CB Point Loss &   NaN &  NaN &  NaN &    NaN &    NaN \\\\\n",
      " W-CE (Full Sup.) &   NaN &  NaN &  NaN &    NaN &    NaN \\\\\n",
      "   Rot Point Loss &  0.73 & 0.57 & 0.65 &   0.82 &   0.92 \\\\\n",
      "\\bottomrule\n",
      "\\end{tabular}\n",
      "\\end{table}\n",
      "\n",
      "\\begin{table}\n",
      "\\centering\n",
      "\\caption{COVID-19-B-Mixed}\n",
      "\\begin{tabular}{lrrrrr}\n",
      "\\toprule\n",
      "    Loss Function &  Dice &  IoU &  PPV &  Sens. &  Spec. \\\\\n",
      "\\midrule\n",
      "       Point Loss &   NaN &  NaN &  NaN &    NaN &    NaN \\\\\n",
      "    CB Point Loss &   NaN &  NaN &  NaN &    NaN &    NaN \\\\\n",
      " W-CE (Full Sup.) &   NaN &  NaN &  NaN &    NaN &    NaN \\\\\n",
      "   Rot Point Loss &  0.75 & 0.60 & 0.63 &   0.92 &   0.99 \\\\\n",
      "\\bottomrule\n",
      "\\end{tabular}\n",
      "\\end{table}\n",
      "\n",
      "\\begin{table}\n",
      "\\centering\n",
      "\\caption{COVID-19-C-Mixed}\n",
      "\\begin{tabular}{lrrrrr}\n",
      "\\toprule\n",
      "    Loss Function &  Dice &  IoU &  PPV &  Sens. &  Spec. \\\\\n",
      "\\midrule\n",
      "       Point Loss &   NaN &  NaN &  NaN &    NaN &    NaN \\\\\n",
      "    CB Point Loss &   NaN &  NaN &  NaN &    NaN &    NaN \\\\\n",
      " W-CE (Full Sup.) &   NaN &  NaN &  NaN &    NaN &    NaN \\\\\n",
      "   Rot Point Loss &  0.68 & 0.51 & 0.56 &   0.85 &   0.99 \\\\\n",
      "\\bottomrule\n",
      "\\end{tabular}\n",
      "\\end{table}\n",
      "\n",
      "\\begin{table}\n",
      "\\centering\n",
      "\\caption{COVID-19-B-Sep}\n",
      "\\begin{tabular}{lrrrrr}\n",
      "\\toprule\n",
      "    Loss Function &  Dice &  IoU &  PPV &  Sens. &  Spec. \\\\\n",
      "\\midrule\n",
      "       Point Loss &   NaN &  NaN &  NaN &    NaN &    NaN \\\\\n",
      "    CB Point Loss &   NaN &  NaN &  NaN &    NaN &    NaN \\\\\n",
      " W-CE (Full Sup.) &   NaN &  NaN &  NaN &    NaN &    NaN \\\\\n",
      "   Rot Point Loss &  0.72 & 0.56 & 0.73 &   0.70 &   0.98 \\\\\n",
      "\\bottomrule\n",
      "\\end{tabular}\n",
      "\\end{table}\n",
      "\n",
      "\\begin{table}\n",
      "\\centering\n",
      "\\caption{COVID-19-C-Sep}\n",
      "\\begin{tabular}{lrrrrr}\n",
      "\\toprule\n",
      "    Loss Function &  Dice &  IoU &  PPV &  Sens. &  Spec. \\\\\n",
      "\\midrule\n",
      "       Point Loss &   NaN &  NaN &  NaN &    NaN &    NaN \\\\\n",
      "    CB Point Loss &   NaN &  NaN &  NaN &    NaN &    NaN \\\\\n",
      " W-CE (Full Sup.) &   NaN &  NaN &  NaN &    NaN &    NaN \\\\\n",
      "   Rot Point Loss &  0.75 & 0.59 & 0.66 &   0.86 &   0.97 \\\\\n",
      "\\bottomrule\n",
      "\\end{tabular}\n",
      "\\end{table}\n",
      "\n"
     ]
    }
   ],
   "source": [
    "import pprint\n",
    "import pandas as pd\n",
    "def create_latex_table(table, filter_dict, map_row_dict_dict, map_col_dict, **kwargs):\n",
    "    # map columns\n",
    "    table2 = pd.DataFrame()\n",
    "    for col_old, col_new in map_col_dict.items():\n",
    "        # map column\n",
    "        table2[col_new] = table[col_old]\n",
    "        # map rows\n",
    "        if col_old in map_row_dict_dict:\n",
    "            map_row_dict = map_row_dict_dict[col_old]\n",
    "            table2[col_new] = table2[col_new].apply( lambda x: map_row_dict[x.replace(\"'\",\"\")] if x.replace(\"'\",\"\") in map_row_dict else x )\n",
    "    # filter dict\n",
    "    conds = None\n",
    "    for k, v in filter_dict.items():\n",
    "        if not isinstance(v, list):\n",
    "            v = [v]\n",
    "#         print(k, v)\n",
    "        for vi in v:\n",
    "            cond = table2[k] == vi\n",
    "            if conds is None:\n",
    "                conds = cond\n",
    "            else:\n",
    "                conds = conds | cond\n",
    "        table2 = table2[conds]\n",
    "        table2 = table2.set_index(k)\n",
    "        table2 = table2.reindex(v)\n",
    "        table2.insert(0, k, table2.index)\n",
    "        table2 = table2.reset_index(drop=True)\n",
    "    return table2.to_latex(**kwargs)\n",
    "map_row_dict_dict = {'model.loss': {\"point_loss\":'Point Loss', \n",
    "                                    \"cons_point_loss\":'CB Point Loss', \n",
    "                                    'joint_cross_entropy':'W-CE (Full Sup.)',\n",
    "                                    'rot_point_loss': 'Rot Point Loss'}}\n",
    "map_col_dict = {'model.loss': 'Loss Function', \n",
    "                'test_dice':'Dice', \n",
    "                'test_iou':'IoU', \n",
    "                'test_prec':'PPV', \n",
    "                'test_recall':'Sens.', \n",
    "                'test_spec':'Spec.'}\n",
    "filter_dict = {'Loss Function':['Point Loss', 'CB Point Loss','W-CE (Full Sup.)', 'Rot Point Loss']}\n",
    "caption_dict = {'weakly_covid19_v1_c2':'COVID-19-A',\n",
    "                'weakly_covid19_v2_mixed_c2':'COVID-19-B-Mixed',\n",
    "                'weakly_covid19_v3_mixed_c2':'COVID-19-C-Mixed',\n",
    "                'weakly_covid19_v2_sep_c2':'COVID-19-B-Sep',\n",
    "                'weakly_covid19_v3_sep_c2':'COVID-19-C-Sep'}\n",
    "for exp_name in ['weakly_covid19_v1_c2', \n",
    "                 'weakly_covid19_v2_mixed_c2', \n",
    "                 'weakly_covid19_v3_mixed_c2',\n",
    "                 'weakly_covid19_v2_sep_c2', \n",
    "                 'weakly_covid19_v3_sep_c2']:\n",
    "    rm.exp_list = hr.get_exp_list_from_config([exp_name], exp_config_name)\n",
    "    table = (rm.get_score_table())\n",
    "    print(create_latex_table(table=table, \n",
    "                             filter_dict=filter_dict, \n",
    "                             map_row_dict_dict=map_row_dict_dict, \n",
    "                             map_col_dict=map_col_dict,\n",
    "                             float_format='%.2f', \n",
    "                             caption=caption_dict[exp_name], \n",
    "#                              label=caption_dict, \n",
    "                             index=False))"
   ]
  },
  {
   "cell_type": "code",
   "execution_count": null,
   "metadata": {},
   "outputs": [],
   "source": []
  }
 ],
 "metadata": {
  "kernelspec": {
   "display_name": "Python 3",
   "language": "python",
   "name": "python3"
  },
  "language_info": {
   "codemirror_mode": {
    "name": "ipython",
    "version": 3
   },
   "file_extension": ".py",
   "mimetype": "text/x-python",
   "name": "python",
   "nbconvert_exporter": "python",
   "pygments_lexer": "ipython3",
   "version": "3.7.7"
  }
 },
 "nbformat": 4,
 "nbformat_minor": 4
}
